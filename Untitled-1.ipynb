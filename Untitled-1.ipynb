{
 "cells": [
  {
   "cell_type": "code",
   "execution_count": 13,
   "id": "b4851e6f",
   "metadata": {},
   "outputs": [
    {
     "data": {
      "text/plain": [
       "5.206896551724138"
      ]
     },
     "execution_count": 13,
     "metadata": {},
     "output_type": "execute_result"
    }
   ],
   "source": [
    "5*(10-4)**2/(3**3+2)-1"
   ]
  },
  {
   "cell_type": "code",
   "execution_count": 7,
   "id": "a190bd83",
   "metadata": {},
   "outputs": [
    {
     "data": {
      "text/plain": [
       "10.0"
      ]
     },
     "execution_count": 7,
     "metadata": {},
     "output_type": "execute_result"
    }
   ],
   "source": [
    "((8-2)**2+(11-3)**2)**0.5"
   ]
  },
  {
   "cell_type": "code",
   "execution_count": 11,
   "id": "cea5f03a",
   "metadata": {},
   "outputs": [
    {
     "data": {
      "text/plain": [
       "7.55"
      ]
     },
     "execution_count": 11,
     "metadata": {},
     "output_type": "execute_result"
    }
   ],
   "source": [
    "(3*7+5*8.5+2*6)/(3+5+2)"
   ]
  }
 ],
 "metadata": {
  "kernelspec": {
   "display_name": "Python 3 (ipykernel)",
   "language": "python",
   "name": "python3"
  },
  "language_info": {
   "codemirror_mode": {
    "name": "ipython",
    "version": 3
   },
   "file_extension": ".py",
   "mimetype": "text/x-python",
   "name": "python",
   "nbconvert_exporter": "python",
   "pygments_lexer": "ipython3",
   "version": "3.12.1"
  }
 },
 "nbformat": 4,
 "nbformat_minor": 5
}
